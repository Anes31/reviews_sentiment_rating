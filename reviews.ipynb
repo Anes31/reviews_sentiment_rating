{
 "cells": [
  {
   "cell_type": "code",
   "execution_count": 1,
   "metadata": {},
   "outputs": [],
   "source": [
    "import pandas as pd\n",
    "import nltk"
   ]
  },
  {
   "cell_type": "code",
   "execution_count": 2,
   "metadata": {},
   "outputs": [
    {
     "data": {
      "text/html": [
       "<div>\n",
       "<style scoped>\n",
       "    .dataframe tbody tr th:only-of-type {\n",
       "        vertical-align: middle;\n",
       "    }\n",
       "\n",
       "    .dataframe tbody tr th {\n",
       "        vertical-align: top;\n",
       "    }\n",
       "\n",
       "    .dataframe thead th {\n",
       "        text-align: right;\n",
       "    }\n",
       "</style>\n",
       "<table border=\"1\" class=\"dataframe\">\n",
       "  <thead>\n",
       "    <tr style=\"text-align: right;\">\n",
       "      <th></th>\n",
       "      <th>business_id</th>\n",
       "      <th>business_review_count</th>\n",
       "      <th>review_id</th>\n",
       "      <th>reviewer_average_stars</th>\n",
       "      <th>reviewer_review_count</th>\n",
       "      <th>reviewer_useful</th>\n",
       "      <th>text</th>\n",
       "    </tr>\n",
       "  </thead>\n",
       "  <tbody>\n",
       "    <tr>\n",
       "      <th>5298</th>\n",
       "      <td>w19cemjVR8u02PgjFpJ7Mw</td>\n",
       "      <td>197</td>\n",
       "      <td>2fno2ou7xMqxo1IsJlMeiw</td>\n",
       "      <td>3.65</td>\n",
       "      <td>89</td>\n",
       "      <td>50</td>\n",
       "      <td>I have tried the other one on shea, but this i...</td>\n",
       "    </tr>\n",
       "    <tr>\n",
       "      <th>5299</th>\n",
       "      <td>AqbgC7Gul5Es1rRzGNLDFA</td>\n",
       "      <td>362</td>\n",
       "      <td>tfQ0Iu1cribS4ABr0THD3A</td>\n",
       "      <td>3.97</td>\n",
       "      <td>58</td>\n",
       "      <td>50</td>\n",
       "      <td>Lovely shop, great cupcake selection, friendly...</td>\n",
       "    </tr>\n",
       "    <tr>\n",
       "      <th>5300</th>\n",
       "      <td>uYLbsoytUFMK-mJyQZ6GvQ</td>\n",
       "      <td>4</td>\n",
       "      <td>Wlpd3M0WdtMfUsb3FFC8sw</td>\n",
       "      <td>3.73</td>\n",
       "      <td>146</td>\n",
       "      <td>316</td>\n",
       "      <td>Wow. I forgot that libraries existed. \\r\\nUnti...</td>\n",
       "    </tr>\n",
       "    <tr>\n",
       "      <th>5301</th>\n",
       "      <td>3Z88l4UO-FoNbYk_ZpTScA</td>\n",
       "      <td>6</td>\n",
       "      <td>6h7oNIYKxcPDVcFARWdkhg</td>\n",
       "      <td>3.63</td>\n",
       "      <td>569</td>\n",
       "      <td>2575</td>\n",
       "      <td>We have been using Delia's Cleaners now for ne...</td>\n",
       "    </tr>\n",
       "    <tr>\n",
       "      <th>5302</th>\n",
       "      <td>UexMw8s7B1J-RtFOQtCCsQ</td>\n",
       "      <td>31</td>\n",
       "      <td>kc8DFIA1IojQEILuQpPOdA</td>\n",
       "      <td>3.00</td>\n",
       "      <td>3</td>\n",
       "      <td>2</td>\n",
       "      <td>Living in this area I frequent Desert Ridge a ...</td>\n",
       "    </tr>\n",
       "  </tbody>\n",
       "</table>\n",
       "</div>"
      ],
      "text/plain": [
       "                 business_id  business_review_count               review_id  \\\n",
       "5298  w19cemjVR8u02PgjFpJ7Mw                    197  2fno2ou7xMqxo1IsJlMeiw   \n",
       "5299  AqbgC7Gul5Es1rRzGNLDFA                    362  tfQ0Iu1cribS4ABr0THD3A   \n",
       "5300  uYLbsoytUFMK-mJyQZ6GvQ                      4  Wlpd3M0WdtMfUsb3FFC8sw   \n",
       "5301  3Z88l4UO-FoNbYk_ZpTScA                      6  6h7oNIYKxcPDVcFARWdkhg   \n",
       "5302  UexMw8s7B1J-RtFOQtCCsQ                     31  kc8DFIA1IojQEILuQpPOdA   \n",
       "\n",
       "      reviewer_average_stars  reviewer_review_count  reviewer_useful  \\\n",
       "5298                    3.65                     89               50   \n",
       "5299                    3.97                     58               50   \n",
       "5300                    3.73                    146              316   \n",
       "5301                    3.63                    569             2575   \n",
       "5302                    3.00                      3                2   \n",
       "\n",
       "                                                   text  \n",
       "5298  I have tried the other one on shea, but this i...  \n",
       "5299  Lovely shop, great cupcake selection, friendly...  \n",
       "5300  Wow. I forgot that libraries existed. \\r\\nUnti...  \n",
       "5301  We have been using Delia's Cleaners now for ne...  \n",
       "5302  Living in this area I frequent Desert Ridge a ...  "
      ]
     },
     "execution_count": 2,
     "metadata": {},
     "output_type": "execute_result"
    }
   ],
   "source": [
    "data = pd.read_csv('reviews_data.csv', index_col=0, skiprows=[x for x in range(1, 10606, 2)])\n",
    "data.tail()"
   ]
  },
  {
   "cell_type": "code",
   "execution_count": 3,
   "metadata": {},
   "outputs": [
    {
     "data": {
      "text/plain": [
       "business_id                object\n",
       "business_review_count       int64\n",
       "review_id                  object\n",
       "reviewer_average_stars    float64\n",
       "reviewer_review_count       int64\n",
       "reviewer_useful             int64\n",
       "text                       object\n",
       "dtype: object"
      ]
     },
     "execution_count": 3,
     "metadata": {},
     "output_type": "execute_result"
    }
   ],
   "source": [
    "data.dtypes"
   ]
  },
  {
   "cell_type": "code",
   "execution_count": 4,
   "metadata": {},
   "outputs": [
    {
     "data": {
      "text/plain": [
       "0       my wife took me here on my birthday for breakf...\n",
       "1       i have no idea why some people give bad review...\n",
       "2                                                        \n",
       "3       rosie, dakota, and i love chaparral dog park!!...\n",
       "4       general manager scott petello is a good egg!!!...\n",
       "5       quiessence is, simply put, beautiful.  full wi...\n",
       "6       drop what you're doing and drive here. after i...\n",
       "7       luckily, i didn't have to travel far to make m...\n",
       "8       definitely come for happy hour! prices are ama...\n",
       "9       nobuo shows his unique talents with everything...\n",
       "10      the oldish man who owns the store is as sweet ...\n",
       "11      wonderful vietnamese sandwich shoppe. their ba...\n",
       "12      they have a limited time thing going on right ...\n",
       "13      good tattoo shop. clean space, multiple artist...\n",
       "14      i'm 2 weeks new to phoenix. i looked up irish ...\n",
       "15      was it worth the 21$ for a salad and small piz...\n",
       "16      we went here on a saturday afternoon and this ...\n",
       "17      okay this is the best place ever! i grew up sh...\n",
       "18      i met a friend for lunch yesterday. loved the ...\n",
       "19      they've gotten better and better for me in the...\n",
       "20      dvap....you have to go at least once in your l...\n",
       "21      this place shouldn't even be reviewed - becaus...\n",
       "22      first time my friend and i went there... it wa...\n",
       "23      u can go there n check the car out. if u wanna...\n",
       "24      i love this place! i have been coming here for...\n",
       "25      this place is great.  a nice little ole' fashi...\n",
       "26      i love love love this place. my boss (who is i...\n",
       "27      not that my review will mean much given the mo...\n",
       "28      came here for breakfast yesterday, it had been...\n",
       "29      always reliably good.  great beer selection as...\n",
       "                              ...                        \n",
       "5273    unique atmosphere in the city of glibert with ...\n",
       "5274    i used to go to them, but stopped several mont...\n",
       "5275    my family and i hosted my sister's graduation ...\n",
       "5276    went here last night for the first time in yea...\n",
       "5277    it's been awhile since this place was reviewed...\n",
       "5278    i struggled a lot on whether to give this a 3 ...\n",
       "5279    one of the most impressive spots in town. lunc...\n",
       "5280    a few days after the amazing yelp event at bri...\n",
       "5281    i have been parking here loyally for several y...\n",
       "5282    this was a nice casino experience.  it wasn't ...\n",
       "5283                  very nice place and delicious food!\n",
       "5284    our 1st visit to renegade canteen last night. ...\n",
       "5285    so many flavors and the ice is melt in your mo...\n",
       "5286    zipps has good bar food, but the service is us...\n",
       "5287    i was very impressed and surprised by the qual...\n",
       "5288    this is about as good as it gets for asian foo...\n",
       "5289                    stop here every time i'm in town!\n",
       "5290    in town for our 5 year wedding anniversary.  s...\n",
       "5291    this is my favorite chipotle to go to because ...\n",
       "5292    the spring on our garage door broke and we had...\n",
       "5293    i've only eaten the buffet here and it was goo...\n",
       "5294    well i liked this place it smokes it's main ri...\n",
       "5295    the service sucks at matt's. unfortunately for...\n",
       "5296    this place is essentially a copy of the old fa...\n",
       "5297    in phoenix on spring break vacation, we found ...\n",
       "5298    i have tried the other one on shea, but this i...\n",
       "5299    lovely shop, great cupcake selection, friendly...\n",
       "5300    wow. i forgot that libraries existed. until re...\n",
       "5301    we have been using delia's cleaners now for ne...\n",
       "5302    living in this area i frequent desert ridge a ...\n",
       "Name: text, Length: 5303, dtype: object"
      ]
     },
     "execution_count": 4,
     "metadata": {},
     "output_type": "execute_result"
    }
   ],
   "source": [
    "data['text'] = data['text'].astype(str)\n",
    "data['text'] = data['text'].str.lower()\n",
    "data['text'] = data['text'].str.replace(r\"\\r\", \"\")\n",
    "data['text'] = data['text'].str.replace(r\"\\n\", \"\")\n",
    "data['text'] = data['text'].str.replace(r\"nan\", \"\")\n",
    "data['text']"
   ]
  },
  {
   "cell_type": "code",
   "execution_count": 6,
   "metadata": {},
   "outputs": [
    {
     "data": {
      "text/html": [
       "<div>\n",
       "<style scoped>\n",
       "    .dataframe tbody tr th:only-of-type {\n",
       "        vertical-align: middle;\n",
       "    }\n",
       "\n",
       "    .dataframe tbody tr th {\n",
       "        vertical-align: top;\n",
       "    }\n",
       "\n",
       "    .dataframe thead th {\n",
       "        text-align: right;\n",
       "    }\n",
       "</style>\n",
       "<table border=\"1\" class=\"dataframe\">\n",
       "  <thead>\n",
       "    <tr style=\"text-align: right;\">\n",
       "      <th></th>\n",
       "      <th>text</th>\n",
       "      <th>tokens</th>\n",
       "    </tr>\n",
       "  </thead>\n",
       "  <tbody>\n",
       "    <tr>\n",
       "      <th>0</th>\n",
       "      <td>my wife took me here on my birthday for breakf...</td>\n",
       "      <td>[my, wife, took, me, here, on, my, birthday, f...</td>\n",
       "    </tr>\n",
       "    <tr>\n",
       "      <th>1</th>\n",
       "      <td>i have no idea why some people give bad review...</td>\n",
       "      <td>[i, have, no, idea, why, some, people, give, b...</td>\n",
       "    </tr>\n",
       "    <tr>\n",
       "      <th>2</th>\n",
       "      <td></td>\n",
       "      <td>[]</td>\n",
       "    </tr>\n",
       "    <tr>\n",
       "      <th>3</th>\n",
       "      <td>rosie, dakota, and i love chaparral dog park!!...</td>\n",
       "      <td>[rosie, dakota, and, i, love, chaparral, dog, ...</td>\n",
       "    </tr>\n",
       "    <tr>\n",
       "      <th>4</th>\n",
       "      <td>general manager scott petello is a good egg!!!...</td>\n",
       "      <td>[general, manager, scott, petello, is, a, good...</td>\n",
       "    </tr>\n",
       "  </tbody>\n",
       "</table>\n",
       "</div>"
      ],
      "text/plain": [
       "                                                text  \\\n",
       "0  my wife took me here on my birthday for breakf...   \n",
       "1  i have no idea why some people give bad review...   \n",
       "2                                                      \n",
       "3  rosie, dakota, and i love chaparral dog park!!...   \n",
       "4  general manager scott petello is a good egg!!!...   \n",
       "\n",
       "                                              tokens  \n",
       "0  [my, wife, took, me, here, on, my, birthday, f...  \n",
       "1  [i, have, no, idea, why, some, people, give, b...  \n",
       "2                                                 []  \n",
       "3  [rosie, dakota, and, i, love, chaparral, dog, ...  \n",
       "4  [general, manager, scott, petello, is, a, good...  "
      ]
     },
     "execution_count": 6,
     "metadata": {},
     "output_type": "execute_result"
    }
   ],
   "source": [
    "from nltk.tokenize import RegexpTokenizer\n",
    "\n",
    "tokenizer = RegexpTokenizer(r'\\w+')\n",
    "\n",
    "data['tokens'] = data['text'].apply(tokenizer.tokenize)\n",
    "data[['text', 'tokens']].head()"
   ]
  },
  {
   "cell_type": "code",
   "execution_count": 7,
   "metadata": {},
   "outputs": [
    {
     "data": {
      "text/html": [
       "<div>\n",
       "<style scoped>\n",
       "    .dataframe tbody tr th:only-of-type {\n",
       "        vertical-align: middle;\n",
       "    }\n",
       "\n",
       "    .dataframe tbody tr th {\n",
       "        vertical-align: top;\n",
       "    }\n",
       "\n",
       "    .dataframe thead th {\n",
       "        text-align: right;\n",
       "    }\n",
       "</style>\n",
       "<table border=\"1\" class=\"dataframe\">\n",
       "  <thead>\n",
       "    <tr style=\"text-align: right;\">\n",
       "      <th></th>\n",
       "      <th>text</th>\n",
       "      <th>tokens</th>\n",
       "    </tr>\n",
       "  </thead>\n",
       "  <tbody>\n",
       "    <tr>\n",
       "      <th>0</th>\n",
       "      <td>my wife took me here on my birthday for breakf...</td>\n",
       "      <td>[wife, took, birthday, breakfast, excellent, w...</td>\n",
       "    </tr>\n",
       "    <tr>\n",
       "      <th>1</th>\n",
       "      <td>i have no idea why some people give bad review...</td>\n",
       "      <td>[idea, people, give, bad, reviews, place, goes...</td>\n",
       "    </tr>\n",
       "    <tr>\n",
       "      <th>2</th>\n",
       "      <td></td>\n",
       "      <td>[]</td>\n",
       "    </tr>\n",
       "    <tr>\n",
       "      <th>3</th>\n",
       "      <td>rosie, dakota, and i love chaparral dog park!!...</td>\n",
       "      <td>[rosie, dakota, love, chaparral, dog, park, co...</td>\n",
       "    </tr>\n",
       "    <tr>\n",
       "      <th>4</th>\n",
       "      <td>general manager scott petello is a good egg!!!...</td>\n",
       "      <td>[general, manager, scott, petello, good, egg, ...</td>\n",
       "    </tr>\n",
       "  </tbody>\n",
       "</table>\n",
       "</div>"
      ],
      "text/plain": [
       "                                                text  \\\n",
       "0  my wife took me here on my birthday for breakf...   \n",
       "1  i have no idea why some people give bad review...   \n",
       "2                                                      \n",
       "3  rosie, dakota, and i love chaparral dog park!!...   \n",
       "4  general manager scott petello is a good egg!!!...   \n",
       "\n",
       "                                              tokens  \n",
       "0  [wife, took, birthday, breakfast, excellent, w...  \n",
       "1  [idea, people, give, bad, reviews, place, goes...  \n",
       "2                                                 []  \n",
       "3  [rosie, dakota, love, chaparral, dog, park, co...  \n",
       "4  [general, manager, scott, petello, good, egg, ...  "
      ]
     },
     "execution_count": 7,
     "metadata": {},
     "output_type": "execute_result"
    }
   ],
   "source": [
    "from nltk.corpus import stopwords\n",
    "\n",
    "data['tokens'] = data['tokens'].apply(lambda x: [word for word in x if word not in stopwords.words('english')])\n",
    "data[['text', 'tokens']].head()"
   ]
  },
  {
   "cell_type": "code",
   "execution_count": 8,
   "metadata": {},
   "outputs": [
    {
     "name": "stdout",
     "output_type": "stream",
     "text": [
      "[('good', 3567), ('place', 3471), ('food', 3172), ('great', 2721), ('like', 2623), ('one', 2162), ('get', 2029), ('go', 1882), ('time', 1786), ('really', 1781), ('service', 1671), ('would', 1585), ('back', 1561), ('also', 1285), ('love', 1191), ('nice', 1171), ('little', 1166), ('well', 1135), ('even', 1063), ('best', 1048), ('always', 1033), ('pretty', 1004), ('us', 997), ('got', 955), ('much', 918), ('chicken', 914), ('restaurant', 898), ('try', 894), ('ordered', 894), ('people', 880), ('menu', 878), ('think', 868), ('could', 847), ('better', 846), ('know', 843), ('order', 842), ('first', 831), ('bar', 829), ('make', 822), ('friendly', 808), ('never', 805), ('went', 794), ('pizza', 778), ('way', 771), ('staff', 769), ('night', 767), ('cheese', 759), ('going', 733), ('2', 728), ('made', 722)]\n"
     ]
    },
    {
     "data": {
      "text/plain": [
       "<Figure size 640x480 with 1 Axes>"
      ]
     },
     "metadata": {},
     "output_type": "display_data"
    }
   ],
   "source": [
    "words = [word for w in data['tokens'] for word in w]\n",
    "freq_dist = nltk.FreqDist(words)\n",
    "print(freq_dist.most_common(50))\n",
    "freq_dist.plot(50)"
   ]
  },
  {
   "cell_type": "code",
   "execution_count": 11,
   "metadata": {},
   "outputs": [
    {
     "data": {
      "text/plain": [
       "-0.04479166666666666"
      ]
     },
     "execution_count": 11,
     "metadata": {},
     "output_type": "execute_result"
    }
   ],
   "source": [
    "#text = '''we went here on a saturday afternoon and this place was incredibly empty.  they had brunch specials going on, including $2 bloody mary's and mimosas, but we were more in the mood for lunch.  except for the bloody mary, i had to try one.  it came out in a high-ball-sized glass.  boo!  but it was really tasty. yay!  the hubby remembered a sign outside the restaurant a few weeks back that said they had arrogant bastard, and he got a 22 oz bottle for $4.75.  hey, that's not fair!!next up: the wings.  we were a bit hesitant to order them when the waitress informed us that they are \"seasoned\" but not sauced, so they can't be ordered hot.  we did ask for them crispy though, and the waitress even asked the cooks to throw them back in for a few minutes when they came out not visibly crispy.  these non-traditional wings were actually pretty damn good.  the seasoning was a little spicy and salty with just a hint of sweet.  if i were in the mood for the tang and kick of frank's hot sauce, these wouldn't cut it, but otherwise they were good enough to go back again for.my entree was the tilapia salad, and i was a bit disappointed.  the fish was a bit dry and uninspired. and the greens underneath were overdressed and wilted.  i ate the greens around the fish and picked out the almonds and mandarin oranges, but i had to leave the mush hiding underneath the fish.it wasn't bad enough to say i wouldn't go back, but i won't be anxiously awaiting my next trip.'''\n",
    "#TextBlob(text).sentiment.polarity"
   ]
  },
  {
   "cell_type": "code",
   "execution_count": 12,
   "metadata": {},
   "outputs": [],
   "source": [
    "from textblob import TextBlob\n",
    "\n",
    "def get_sentiment(text): \n",
    "        analysis = TextBlob(text) \n",
    "        # set sentiment \n",
    "        if analysis.sentiment.polarity > 0: \n",
    "            return 'positive'\n",
    "        elif analysis.sentiment.polarity < 0: \n",
    "            return 'negative'\n",
    "        else: \n",
    "            return 'neutral'"
   ]
  },
  {
   "cell_type": "code",
   "execution_count": 13,
   "metadata": {},
   "outputs": [
    {
     "data": {
      "text/html": [
       "<div>\n",
       "<style scoped>\n",
       "    .dataframe tbody tr th:only-of-type {\n",
       "        vertical-align: middle;\n",
       "    }\n",
       "\n",
       "    .dataframe tbody tr th {\n",
       "        vertical-align: top;\n",
       "    }\n",
       "\n",
       "    .dataframe thead th {\n",
       "        text-align: right;\n",
       "    }\n",
       "</style>\n",
       "<table border=\"1\" class=\"dataframe\">\n",
       "  <thead>\n",
       "    <tr style=\"text-align: right;\">\n",
       "      <th></th>\n",
       "      <th>text</th>\n",
       "      <th>sentiment</th>\n",
       "    </tr>\n",
       "  </thead>\n",
       "  <tbody>\n",
       "    <tr>\n",
       "      <th>0</th>\n",
       "      <td>my wife took me here on my birthday for breakf...</td>\n",
       "      <td>positive</td>\n",
       "    </tr>\n",
       "    <tr>\n",
       "      <th>1</th>\n",
       "      <td>i have no idea why some people give bad review...</td>\n",
       "      <td>positive</td>\n",
       "    </tr>\n",
       "    <tr>\n",
       "      <th>2</th>\n",
       "      <td></td>\n",
       "      <td>neutral</td>\n",
       "    </tr>\n",
       "    <tr>\n",
       "      <th>3</th>\n",
       "      <td>rosie, dakota, and i love chaparral dog park!!...</td>\n",
       "      <td>positive</td>\n",
       "    </tr>\n",
       "    <tr>\n",
       "      <th>4</th>\n",
       "      <td>general manager scott petello is a good egg!!!...</td>\n",
       "      <td>positive</td>\n",
       "    </tr>\n",
       "  </tbody>\n",
       "</table>\n",
       "</div>"
      ],
      "text/plain": [
       "                                                text sentiment\n",
       "0  my wife took me here on my birthday for breakf...  positive\n",
       "1  i have no idea why some people give bad review...  positive\n",
       "2                                                      neutral\n",
       "3  rosie, dakota, and i love chaparral dog park!!...  positive\n",
       "4  general manager scott petello is a good egg!!!...  positive"
      ]
     },
     "execution_count": 13,
     "metadata": {},
     "output_type": "execute_result"
    }
   ],
   "source": [
    "data['sentiment'] = data['text'].apply(lambda x: get_sentiment(x))\n",
    "data[['text', 'sentiment']].head()"
   ]
  },
  {
   "cell_type": "code",
   "execution_count": 14,
   "metadata": {},
   "outputs": [],
   "source": [
    "data.to_csv('reviews_data_sentiment.csv', encoding='utf-8')"
   ]
  },
  {
   "cell_type": "code",
   "execution_count": null,
   "metadata": {},
   "outputs": [],
   "source": []
  }
 ],
 "metadata": {
  "kernelspec": {
   "display_name": "Python 3",
   "language": "python",
   "name": "python3"
  },
  "language_info": {
   "codemirror_mode": {
    "name": "ipython",
    "version": 3
   },
   "file_extension": ".py",
   "mimetype": "text/x-python",
   "name": "python",
   "nbconvert_exporter": "python",
   "pygments_lexer": "ipython3",
   "version": "3.7.1"
  }
 },
 "nbformat": 4,
 "nbformat_minor": 2
}
